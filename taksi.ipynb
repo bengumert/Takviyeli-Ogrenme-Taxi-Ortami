{
 "cells": [
  {
   "cell_type": "code",
   "execution_count": 2,
   "id": "47f56396",
   "metadata": {},
   "outputs": [],
   "source": [
    "import gym\n",
    "import random\n",
    "import numpy as np\n",
    "from tqdm import tqdm\n"
   ]
  },
  {
   "cell_type": "code",
   "execution_count": 3,
   "id": "76565ad0",
   "metadata": {},
   "outputs": [
    {
     "data": {
      "text/plain": [
       "(369, {'prob': 1.0, 'action_mask': array([1, 1, 1, 0, 0, 0], dtype=int8)})"
      ]
     },
     "execution_count": 3,
     "metadata": {},
     "output_type": "execute_result"
    }
   ],
   "source": [
    "env = gym.make(\"Taxi-v3\",render_mode=\"ansi\")\n",
    "env.reset()"
   ]
  },
  {
   "cell_type": "code",
   "execution_count": 4,
   "id": "6510b8a7",
   "metadata": {},
   "outputs": [
    {
     "name": "stdout",
     "output_type": "stream",
     "text": [
      "+---------+\n",
      "|R: | : :\u001b[35mG\u001b[0m|\n",
      "| : | : : |\n",
      "| : : : : |\n",
      "| | : |\u001b[43m \u001b[0m: |\n",
      "|\u001b[34;1mY\u001b[0m| : |B: |\n",
      "+---------+\n",
      "\n",
      "\n"
     ]
    }
   ],
   "source": [
    "print(env.render())   \n",
    "# environmenti görmek için"
   ]
  },
  {
   "cell_type": "markdown",
   "id": "9f27dd45",
   "metadata": {},
   "source": [
    "0: güney\n",
    "\n",
    "1: kuzay\n",
    "\n",
    "2: doğu\n",
    "\n",
    "3: batı\n",
    "\n",
    "4: yolcuyu almak\n",
    "\n",
    "5: yolcuyu birak\n"
   ]
  },
  {
   "cell_type": "code",
   "execution_count": 5,
   "id": "44fbe6b8",
   "metadata": {},
   "outputs": [
    {
     "name": "stdout",
     "output_type": "stream",
     "text": [
      "6\n",
      "500\n"
     ]
    }
   ],
   "source": [
    "action_space = env.action_space.n\n",
    "print(action_space)\n",
    "state_space = env.observation_space.n\n",
    "print(state_space)"
   ]
  },
  {
   "cell_type": "code",
   "execution_count": 6,
   "id": "a61917a2",
   "metadata": {},
   "outputs": [],
   "source": [
    "q_table = np.zeros((state_space,action_space))"
   ]
  },
  {
   "cell_type": "code",
   "execution_count": 9,
   "id": "4549c1d2",
   "metadata": {},
   "outputs": [
    {
     "name": "stderr",
     "output_type": "stream",
     "text": [
      "100%|██████████| 100000/100000 [00:30<00:00, 3253.24it/s]"
     ]
    },
    {
     "name": "stdout",
     "output_type": "stream",
     "text": [
      "Training completed.\n",
      "\n",
      "Final Q-Table Values\n",
      "[[  0.           0.           0.           0.           0.\n",
      "    0.        ]\n",
      " [ -2.41837064  -2.3639511   -2.41837065  -2.36395109  -2.27325184\n",
      "  -11.36394979]\n",
      " [ -1.87014396  -1.45024     -1.87014399  -1.45024002  -0.7504\n",
      "  -10.4502323 ]\n",
      " ...\n",
      " [ -1.10535148   0.41599699  -1.08547861  -1.22059642  -3.55544025\n",
      "   -3.42556788]\n",
      " [ -2.17085139  -2.12207969  -2.13259586  -2.12207951  -3.64718909\n",
      "   -5.72610044]\n",
      " [  2.47508347   0.85070756   3.74494653  11.          -2.80636754\n",
      "   -2.7672456 ]]\n"
     ]
    },
    {
     "name": "stderr",
     "output_type": "stream",
     "text": [
      "\n"
     ]
    }
   ],
   "source": [
    "alpha = 0.1 # learning rate\n",
    "gamma = 0.6 # discount rate\n",
    "# epsilon\n",
    "epsilon = 0.1  # exploration rate\n",
    "\n",
    "for i in tqdm(range(1,100001)):   # tqdm ilermleme çubuğunu vermek için\n",
    "    \n",
    "    state,_ = env.reset() \n",
    "    # her eğitim döngüüsnde ortamı sıfırlıyoruz\n",
    "    \n",
    "    done = False\n",
    "   \n",
    "    while not done:\n",
    "\n",
    "        if random.uniform(0,1) < epsilon:  # exploration           \n",
    "            action = env.action_space.sample()  # rastgele eylem\n",
    "        \n",
    "        else:  # exploit (öğrenilen en iyi eylemi seeçer)\n",
    "            action = np.argmax(q_table[state])\n",
    "\n",
    "        next_state, reward, done, info, _ = env.step(action)\n",
    "        #seçilen eylemi uygular, ortamın ynei durumu, bu eylemin getirdği ödül, ortmamın bitip bitmediği ve bilgi döner, ek bilgi(genelde kullanılmaz) \n",
    "\n",
    "        q_table[state, action] = q_table[state, action] + alpha * (reward + gamma * np.max(q_table[next_state]) - q_table[state, action])\n",
    "\n",
    "        state = next_state\n",
    "        # yeni durumu güncelle, sonraki adıma geç\n",
    "\n",
    "print(\"Training completed.\\n\")\n",
    "print(\"Final Q-Table Values\")\n",
    "print(q_table)\n",
    "\n",
    "        "
   ]
  },
  {
   "cell_type": "markdown",
   "id": "b8fc5416",
   "metadata": {},
   "source": [
    "TEST"
   ]
  },
  {
   "cell_type": "code",
   "execution_count": 10,
   "id": "b8592067",
   "metadata": {},
   "outputs": [
    {
     "name": "stdout",
     "output_type": "stream",
     "text": [
      "Results after 100 episodes:\n",
      "Average timesteps per episode: 13.04\n",
      "Average penalties per episode: 0.0\n"
     ]
    }
   ],
   "source": [
    "total_epochs, total_penalties = 0, 0   # toplam adım ve ceza sayısı\n",
    "episodes = 100\n",
    "for _ in range(episodes):\n",
    "    state, _ = env.reset()\n",
    "    epochs, penalties, reward = 0, 0, 0\n",
    "    done = False\n",
    "\n",
    "    while not done:\n",
    "        \n",
    "        action = np.argmax(q_table[state])\n",
    "        # her adımda Q Tablosuna göre en iyi eylemi seç (öğrenilen strateji)\n",
    "\n",
    "        next_state, reward, done, info, _ = env.step(action)\n",
    "        state = next_state\n",
    "        # seçilen yelemi uygula, ortamı güncelle \n",
    "\n",
    "        if reward == -10 :\n",
    "            penalties += 1\n",
    "        epochs += 1\n",
    "    total_epochs += epochs\n",
    "    total_penalties += penalties\n",
    "\n",
    "print(f\"Results after {episodes} episodes:\")\n",
    "print(f\"Average timesteps per episode: {total_epochs/episodes}\")\n",
    "print(f\"Average penalties per episode: {total_penalties/episodes}\")"
   ]
  }
 ],
 "metadata": {
  "kernelspec": {
   "display_name": "Python 3",
   "language": "python",
   "name": "python3"
  },
  "language_info": {
   "codemirror_mode": {
    "name": "ipython",
    "version": 3
   },
   "file_extension": ".py",
   "mimetype": "text/x-python",
   "name": "python",
   "nbconvert_exporter": "python",
   "pygments_lexer": "ipython3",
   "version": "3.10.7"
  }
 },
 "nbformat": 4,
 "nbformat_minor": 5
}
